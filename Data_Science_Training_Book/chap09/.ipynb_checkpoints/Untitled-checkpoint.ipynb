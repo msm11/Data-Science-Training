{
 "cells": [
  {
   "cell_type": "code",
   "execution_count": 1,
   "id": "f3dc9523",
   "metadata": {},
   "outputs": [
    {
     "data": {
      "text/plain": [
       "'%.3f'"
      ]
     },
     "execution_count": 1,
     "metadata": {},
     "output_type": "execute_result"
    }
   ],
   "source": [
    "import numpy as np\n",
    "import pandas as pd\n",
    "import scipy as sp\n",
    "import matplotlib as mpl\n",
    "import matplotlib.pyplot as plt\n",
    "import seaborn as sns\n",
    "import sklearn\n",
    "%precision 3"
   ]
  },
  {
   "cell_type": "code",
   "execution_count": 209,
   "id": "b359a531",
   "metadata": {},
   "outputs": [
    {
     "data": {
      "text/plain": [
       "<matplotlib.collections.PathCollection at 0x1afff494550>"
      ]
     },
     "execution_count": 209,
     "metadata": {},
     "output_type": "execute_result"
    },
    {
     "data": {
      "image/png": "[encoded data removed]",
      "text/plain": [
       "<Figure size 432x288 with 1 Axes>"
      ]
     },
     "metadata": {
      "needs_background": "light"
     },
     "output_type": "display_data"
    }
   ],
   "source": [
    "# k-means 군집 분석 데이터셋 준비\n",
    "from sklearn.cluster import KMeans\n",
    "from sklearn.datasets import make_blobs\n",
    "\n",
    "# make_blobs 함수는 가로축, 세로축에서 표준 편차가 1.0인 정규분포를 따르는 난수를 얻음\n",
    "# 주로 군집 분석 데이터를 얻을 때 많이 사용\n",
    "# make_blobs 함수는 2개의 값 반환하므로 한쪽은 사용하지 않는 _로 입력 받음\n",
    "# 파라미터를 지정하지 않으면 2차원 좌표에서 수치 세트 100개 생성\n",
    "X, _ = make_blobs(random_state=10)\n",
    "plt.scatter(X[:,0], X[:,1])"
   ]
  },
  {
   "cell_type": "code",
   "execution_count": 222,
   "id": "4d4fe9ea",
   "metadata": {},
   "outputs": [
    {
     "data": {
      "text/plain": [
       "array([0, 0, 1, 2, 1, 1, 2, 0, 1, 2, 2, 1, 1, 0, 0, 1, 2, 1, 2, 1, 2, 0,\n",
       "       1, 0, 2, 1, 1, 1, 1, 2, 0, 1, 1, 2, 0, 0, 0, 1, 1, 1, 0, 2, 0, 0,\n",
       "       1, 2, 2, 2, 0, 2, 1, 0, 2, 2, 0, 2, 1, 0, 2, 2, 1, 1, 0, 0, 0, 2,\n",
       "       2, 0, 0, 0, 1, 2, 1, 1, 0, 1, 1, 0, 2, 2, 2, 1, 2, 1, 0, 1, 0, 2,\n",
       "       0, 0, 2, 2, 2, 0, 0, 0, 1, 2, 2, 2])"
      ]
     },
     "execution_count": 222,
     "metadata": {},
     "output_type": "execute_result"
    }
   ],
   "source": [
    "# KMeans 클래스 초기화\n",
    "# n_clusters 파라미터의 값이 군집의 수에 해당 (k값)\n",
    "# init = 'random'시 k-means, init = 'k-means++'시 k-means++\n",
    "kmeans = KMeans(init='k-means++', n_clusters = 3)\n",
    "\n",
    "# 군집 중심점 계산\n",
    "kmeans.fit(X)\n",
    "\n",
    "# 군집 번호 예측\n",
    "y_pred = kmeans.predict(X)\n",
    "y_pred"
   ]
  },
  {
   "cell_type": "code",
   "execution_count": 223,
   "id": "583858ae",
   "metadata": {},
   "outputs": [
    {
     "data": {
      "text/html": [
       "<div>\n",
       "<style scoped>\n",
       "    .dataframe tbody tr th:only-of-type {\n",
       "        vertical-align: middle;\n",
       "    }\n",
       "\n",
       "    .dataframe tbody tr th {\n",
       "        vertical-align: top;\n",
       "    }\n",
       "\n",
       "    .dataframe thead th {\n",
       "        text-align: right;\n",
       "    }\n",
       "</style>\n",
       "<table border=\"1\" class=\"dataframe\">\n",
       "  <thead>\n",
       "    <tr style=\"text-align: right;\">\n",
       "      <th></th>\n",
       "      <th>0</th>\n",
       "      <th>0</th>\n",
       "      <th>0</th>\n",
       "    </tr>\n",
       "  </thead>\n",
       "  <tbody>\n",
       "    <tr>\n",
       "      <th>0</th>\n",
       "      <td>-2.324963</td>\n",
       "      <td>-6.699996</td>\n",
       "      <td>0</td>\n",
       "    </tr>\n",
       "    <tr>\n",
       "      <th>1</th>\n",
       "      <td>0.518568</td>\n",
       "      <td>-4.900868</td>\n",
       "      <td>0</td>\n",
       "    </tr>\n",
       "    <tr>\n",
       "      <th>2</th>\n",
       "      <td>2.443018</td>\n",
       "      <td>3.846526</td>\n",
       "      <td>1</td>\n",
       "    </tr>\n",
       "    <tr>\n",
       "      <th>3</th>\n",
       "      <td>5.826623</td>\n",
       "      <td>-9.922593</td>\n",
       "      <td>2</td>\n",
       "    </tr>\n",
       "    <tr>\n",
       "      <th>4</th>\n",
       "      <td>2.033002</td>\n",
       "      <td>5.289908</td>\n",
       "      <td>1</td>\n",
       "    </tr>\n",
       "    <tr>\n",
       "      <th>...</th>\n",
       "      <td>...</td>\n",
       "      <td>...</td>\n",
       "      <td>...</td>\n",
       "    </tr>\n",
       "    <tr>\n",
       "      <th>95</th>\n",
       "      <td>-0.736931</td>\n",
       "      <td>-4.957402</td>\n",
       "      <td>0</td>\n",
       "    </tr>\n",
       "    <tr>\n",
       "      <th>96</th>\n",
       "      <td>2.790440</td>\n",
       "      <td>3.068621</td>\n",
       "      <td>1</td>\n",
       "    </tr>\n",
       "    <tr>\n",
       "      <th>97</th>\n",
       "      <td>4.486980</td>\n",
       "      <td>-10.074298</td>\n",
       "      <td>2</td>\n",
       "    </tr>\n",
       "    <tr>\n",
       "      <th>98</th>\n",
       "      <td>6.268638</td>\n",
       "      <td>-9.381380</td>\n",
       "      <td>2</td>\n",
       "    </tr>\n",
       "    <tr>\n",
       "      <th>99</th>\n",
       "      <td>5.400508</td>\n",
       "      <td>-9.295867</td>\n",
       "      <td>2</td>\n",
       "    </tr>\n",
       "  </tbody>\n",
       "</table>\n",
       "<p>100 rows × 3 columns</p>\n",
       "</div>"
      ],
      "text/plain": [
       "           0          0  0\n",
       "0  -2.324963  -6.699996  0\n",
       "1   0.518568  -4.900868  0\n",
       "2   2.443018   3.846526  1\n",
       "3   5.826623  -9.922593  2\n",
       "4   2.033002   5.289908  1\n",
       "..       ...        ... ..\n",
       "95 -0.736931  -4.957402  0\n",
       "96  2.790440   3.068621  1\n",
       "97  4.486980 -10.074298  2\n",
       "98  6.268638  -9.381380  2\n",
       "99  5.400508  -9.295867  2\n",
       "\n",
       "[100 rows x 3 columns]"
      ]
     },
     "execution_count": 223,
     "metadata": {},
     "output_type": "execute_result"
    }
   ],
   "source": [
    "# pd.concat(axis=1)로 가로 방향 데이터 결합\n",
    "merge_data = pd.concat([pd.DataFrame(X[:,0]), pd.DataFrame(X[:,1]),\n",
    "                        pd.DataFrame(y_pred)], axis=1)\n",
    "merge_data"
   ]
  },
  {
   "cell_type": "code",
   "execution_count": 224,
   "id": "8d155d9c",
   "metadata": {},
   "outputs": [
    {
     "data": {
      "text/plain": [
       "<matplotlib.collections.PathCollection at 0x1af80cc5790>"
      ]
     },
     "execution_count": 224,
     "metadata": {},
     "output_type": "execute_result"
    },
    {
     "data": {
      "image/png": "[encoded data removed]",
      "text/plain": [
       "<Figure size 432x288 with 1 Axes>"
      ]
     },
     "metadata": {
      "needs_background": "light"
     },
     "output_type": "display_data"
    }
   ],
   "source": [
    "# 컬럼 이름 설정 // 각각 X축, Y축, 군집 번호에 해당\n",
    "merge_data.columns = ['feature1', 'feature2', 'cluster']\n",
    "\n",
    "# 산점도 그리기\n",
    "ax = None\n",
    "colors = ['blue', 'red', 'green']\n",
    "for i, data in merge_data.groupby('cluster'):\n",
    "    ax = data.plot.scatter(x='feature1',y='feature2', color=colors[i],\n",
    "                          label=f'cluster{i}', ax=ax)\n",
    "\n",
    "# plt.scatter의 파라미터 중 's'는 점의 크기, 'c'는 색깔에 해당\n",
    "plt.scatter(kmeans.cluster_centers_[:,0], kmeans.cluster_centers_[:,1], marker='*',\n",
    "            edgecolors = 'black',s = 250, c = 'yellow')"
   ]
  },
  {
   "cell_type": "code",
   "execution_count": 9,
   "id": "a0f2bc53",
   "metadata": {},
   "outputs": [],
   "source": [
    "# 은행의 정기예금 계좌 신청 여부를 변수로 포함하는 데이터를 활용\n",
    "# 은행에서 제공한 데이터로 고객 분석하기 (목표 변수 특정 X)\n",
    "# 군집 분석 해보기\n",
    "import requests, io, zipfile\n",
    "\n",
    "url = 'http://archive.ics.uci.edu/ml/machine-learning-databases/00222/bank.zip'\n",
    "r = requests.get(url, stream=True)\n",
    "z = zipfile.ZipFile(io.BytesIO(r.content))\n",
    "z.extractall()"
   ]
  },
  {
   "cell_type": "code",
   "execution_count": 10,
   "id": "beadea68",
   "metadata": {},
   "outputs": [
    {
     "data": {
      "text/html": [
       "<div>\n",
       "<style scoped>\n",
       "    .dataframe tbody tr th:only-of-type {\n",
       "        vertical-align: middle;\n",
       "    }\n",
       "\n",
       "    .dataframe tbody tr th {\n",
       "        vertical-align: top;\n",
       "    }\n",
       "\n",
       "    .dataframe thead th {\n",
       "        text-align: right;\n",
       "    }\n",
       "</style>\n",
       "<table border=\"1\" class=\"dataframe\">\n",
       "  <thead>\n",
       "    <tr style=\"text-align: right;\">\n",
       "      <th></th>\n",
       "      <th>age</th>\n",
       "      <th>job</th>\n",
       "      <th>marital</th>\n",
       "      <th>education</th>\n",
       "      <th>default</th>\n",
       "      <th>balance</th>\n",
       "      <th>housing</th>\n",
       "      <th>loan</th>\n",
       "      <th>contact</th>\n",
       "      <th>day</th>\n",
       "      <th>month</th>\n",
       "      <th>duration</th>\n",
       "      <th>campaign</th>\n",
       "      <th>pdays</th>\n",
       "      <th>previous</th>\n",
       "      <th>poutcome</th>\n",
       "      <th>y</th>\n",
       "    </tr>\n",
       "  </thead>\n",
       "  <tbody>\n",
       "    <tr>\n",
       "      <th>0</th>\n",
       "      <td>58</td>\n",
       "      <td>management</td>\n",
       "      <td>married</td>\n",
       "      <td>tertiary</td>\n",
       "      <td>no</td>\n",
       "      <td>2143</td>\n",
       "      <td>yes</td>\n",
       "      <td>no</td>\n",
       "      <td>unknown</td>\n",
       "      <td>5</td>\n",
       "      <td>may</td>\n",
       "      <td>261</td>\n",
       "      <td>1</td>\n",
       "      <td>-1</td>\n",
       "      <td>0</td>\n",
       "      <td>unknown</td>\n",
       "      <td>no</td>\n",
       "    </tr>\n",
       "    <tr>\n",
       "      <th>1</th>\n",
       "      <td>44</td>\n",
       "      <td>technician</td>\n",
       "      <td>single</td>\n",
       "      <td>secondary</td>\n",
       "      <td>no</td>\n",
       "      <td>29</td>\n",
       "      <td>yes</td>\n",
       "      <td>no</td>\n",
       "      <td>unknown</td>\n",
       "      <td>5</td>\n",
       "      <td>may</td>\n",
       "      <td>151</td>\n",
       "      <td>1</td>\n",
       "      <td>-1</td>\n",
       "      <td>0</td>\n",
       "      <td>unknown</td>\n",
       "      <td>no</td>\n",
       "    </tr>\n",
       "    <tr>\n",
       "      <th>2</th>\n",
       "      <td>33</td>\n",
       "      <td>entrepreneur</td>\n",
       "      <td>married</td>\n",
       "      <td>secondary</td>\n",
       "      <td>no</td>\n",
       "      <td>2</td>\n",
       "      <td>yes</td>\n",
       "      <td>yes</td>\n",
       "      <td>unknown</td>\n",
       "      <td>5</td>\n",
       "      <td>may</td>\n",
       "      <td>76</td>\n",
       "      <td>1</td>\n",
       "      <td>-1</td>\n",
       "      <td>0</td>\n",
       "      <td>unknown</td>\n",
       "      <td>no</td>\n",
       "    </tr>\n",
       "    <tr>\n",
       "      <th>3</th>\n",
       "      <td>47</td>\n",
       "      <td>blue-collar</td>\n",
       "      <td>married</td>\n",
       "      <td>unknown</td>\n",
       "      <td>no</td>\n",
       "      <td>1506</td>\n",
       "      <td>yes</td>\n",
       "      <td>no</td>\n",
       "      <td>unknown</td>\n",
       "      <td>5</td>\n",
       "      <td>may</td>\n",
       "      <td>92</td>\n",
       "      <td>1</td>\n",
       "      <td>-1</td>\n",
       "      <td>0</td>\n",
       "      <td>unknown</td>\n",
       "      <td>no</td>\n",
       "    </tr>\n",
       "    <tr>\n",
       "      <th>4</th>\n",
       "      <td>33</td>\n",
       "      <td>unknown</td>\n",
       "      <td>single</td>\n",
       "      <td>unknown</td>\n",
       "      <td>no</td>\n",
       "      <td>1</td>\n",
       "      <td>no</td>\n",
       "      <td>no</td>\n",
       "      <td>unknown</td>\n",
       "      <td>5</td>\n",
       "      <td>may</td>\n",
       "      <td>198</td>\n",
       "      <td>1</td>\n",
       "      <td>-1</td>\n",
       "      <td>0</td>\n",
       "      <td>unknown</td>\n",
       "      <td>no</td>\n",
       "    </tr>\n",
       "  </tbody>\n",
       "</table>\n",
       "</div>"
      ],
      "text/plain": [
       "   age           job  marital  education default  balance housing loan  \\\n",
       "0   58    management  married   tertiary      no     2143     yes   no   \n",
       "1   44    technician   single  secondary      no       29     yes   no   \n",
       "2   33  entrepreneur  married  secondary      no        2     yes  yes   \n",
       "3   47   blue-collar  married    unknown      no     1506     yes   no   \n",
       "4   33       unknown   single    unknown      no        1      no   no   \n",
       "\n",
       "   contact  day month  duration  campaign  pdays  previous poutcome   y  \n",
       "0  unknown    5   may       261         1     -1         0  unknown  no  \n",
       "1  unknown    5   may       151         1     -1         0  unknown  no  \n",
       "2  unknown    5   may        76         1     -1         0  unknown  no  \n",
       "3  unknown    5   may        92         1     -1         0  unknown  no  \n",
       "4  unknown    5   may       198         1     -1         0  unknown  no  "
      ]
     },
     "execution_count": 10,
     "metadata": {},
     "output_type": "execute_result"
    }
   ],
   "source": [
    "bank = pd.read_csv('bank-full.csv', sep = ';')\n",
    "bank.head()\n",
    "# y column은 정기 예금의 여부를 의미 (목표 변수지만 여기서는 구분하지 않음)"
   ]
  },
  {
   "cell_type": "code",
   "execution_count": 11,
   "id": "332da5eb",
   "metadata": {},
   "outputs": [
    {
     "name": "stdout",
     "output_type": "stream",
     "text": [
      "데이터 형식 : (45211, 17)\n",
      "결측 값 수 : 0\n"
     ]
    }
   ],
   "source": [
    "# 데이터 형태와 결측 값 확인\n",
    "print(f\"데이터 형식 : {bank.shape}\")\n",
    "print(f\"결측 값 수 : {bank.isnull().sum().sum()}\")"
   ]
  },
  {
   "cell_type": "code",
   "execution_count": 377,
   "id": "407d51f0",
   "metadata": {},
   "outputs": [
    {
     "name": "stdout",
     "output_type": "stream",
     "text": [
      "<class 'pandas.core.frame.DataFrame'>\n",
      "RangeIndex: 45211 entries, 0 to 45210\n",
      "Data columns (total 4 columns):\n",
      " #   Column    Non-Null Count  Dtype\n",
      "---  ------    --------------  -----\n",
      " 0   age       45211 non-null  int64\n",
      " 1   balance   45211 non-null  int64\n",
      " 2   campaign  45211 non-null  int64\n",
      " 3   previous  45211 non-null  int64\n",
      "dtypes: int64(4)\n",
      "memory usage: 1.4 MB\n"
     ]
    }
   ],
   "source": [
    "# 군집 분석을 위해 age, balance(연 평균 잔고),\n",
    "# campaign(캠페인을 위한 연락 횟수), previous(캠페인 이전 연락 횟수)만 사용\n",
    "\n",
    "from sklearn.preprocessing import StandardScaler\n",
    "bank_sub = bank[['age', 'balance', 'campaign', 'previous']]\n",
    "\n",
    "# 변수들의 단위가 다르므로 표준화하는 전처리 시행\n",
    "sc = StandardScaler()\n",
    "sc.fit(bank_sub)\n",
    "bank_sub_std = sc.transform(bank_sub)\n",
    "bank_sub.info()"
   ]
  },
  {
   "cell_type": "code",
   "execution_count": 386,
   "id": "ee4c04b3",
   "metadata": {},
   "outputs": [
    {
     "name": "stdout",
     "output_type": "stream",
     "text": [
      "4    14734\n",
      "0    24509\n",
      "2     2684\n",
      "1      221\n",
      "5     1683\n",
      "3     1380\n",
      "Name: cluster_number, dtype: int64\n"
     ]
    },
    {
     "data": {
      "text/plain": [
       "Text(0, 0.5, 'count')"
      ]
     },
     "execution_count": 386,
     "metadata": {},
     "output_type": "execute_result"
    },
    {
     "data": {
      "image/png": "[encoded data removed]",
      "text/plain": [
       "<Figure size 432x288 with 1 Axes>"
      ]
     },
     "metadata": {
      "needs_background": "light"
     },
     "output_type": "display_data"
    }
   ],
   "source": [
    "# KMneans 클래스 초기화\n",
    "kmeans = KMeans(init='random', n_clusters=6, random_state=0)\n",
    "\n",
    "# 군집 중심 계산\n",
    "kmeans.fit(bank_sub_std)\n",
    "\n",
    "# 군집 번호를 Series 객체로 변환\n",
    "labels = pd.Series(kmeans.labels_, name='cluster_number')\n",
    "\n",
    "# 군집 번호와 개수 출력, 그래프 출력\n",
    "print(labels.value_counts(sort=False))\n",
    "ax = labels.value_counts(sort=False).sort_index().plot(kind='bar')\n",
    "ax.set_xlabel('cluster number')\n",
    "ax.set_ylabel('count')\n",
    "\n",
    "# 출력 결과 군집 0과 군집 4의 데이터 개수가 비교적 많음을 알 수 있음"
   ]
  },
  {
   "cell_type": "code",
   "execution_count": 22,
   "id": "74e41512",
   "metadata": {},
   "outputs": [
    {
     "data": {
      "image/png": "[encoded data removed]",
      "text/plain": [
       "<Figure size 432x288 with 1 Axes>"
      ]
     },
     "metadata": {
      "needs_background": "light"
     },
     "output_type": "display_data"
    }
   ],
   "source": [
    "# 엘보우 법으로 군집의 수 추정\n",
    "# make_blobs 함수의 데이터 이용\n",
    "\n",
    "from sklearn.datasets import make_blobs\n",
    "X, _ = make_blobs(random_state=10)\n",
    "\n",
    "dist_list=[]\n",
    "# 군집의 수를 1부터 10까지 증가시켜 거리의 총합 계산\n",
    "# KMeans 객체의 inertia_ 속성이 거리의 총합에 해당\n",
    "for i in range(1,11):\n",
    "    kmeans = KMeans(n_clusters=i, init='random', random_state=0)\n",
    "    kmeans.fit(X)\n",
    "    dist_list.append(kmeans.inertia_)\n",
    "\n",
    "plt.plot(range(1,11), dist_list, marker = 'o')\n",
    "plt.xlabel('Number of clusters')\n",
    "plt.ylabel('Distortion')\n",
    "plt.xticks(np.linspace(1,10,10,endpoint=True))\n",
    "plt.show()"
   ]
  },
  {
   "cell_type": "code",
   "execution_count": 23,
   "id": "3c42e19e",
   "metadata": {
    "scrolled": true
   },
   "outputs": [
    {
     "data": {
      "image/png": "[encoded data removed]",
      "text/plain": [
       "<Figure size 432x288 with 1 Axes>"
      ]
     },
     "metadata": {
      "needs_background": "light"
     },
     "output_type": "display_data"
    }
   ],
   "source": [
    "# 금융 마케팅 데이터에 엘보우법 사용\n",
    "# 군집의 수를 1부터 2까지 증가시켜 거리의 총합 계산\n",
    "\n",
    "dist_list = []\n",
    "for i in range(1,21):\n",
    "    kmeans = KMeans(n_clusters=i, init ='random', random_state=0)\n",
    "    kmeans.fit(bank_sub_std)\n",
    "    dist_list.append(kmeans.inertia_)\n",
    "    \n",
    "plt.plot(range(1,21), dist_list, marker='o')\n",
    "plt.xlabel('Number of clusters')\n",
    "plt.ylabel('Distortion')\n",
    "plt.xticks(ticks = np.linspace(1,20,20, endpoint=True))\n",
    "plt.show()"
   ]
  },
  {
   "cell_type": "code",
   "execution_count": 334,
   "id": "acbc2295",
   "metadata": {
    "scrolled": false
   },
   "outputs": [
    {
     "name": "stdout",
     "output_type": "stream",
     "text": [
      "평균 실루엣 계수 : 0.604\n"
     ]
    },
    {
     "data": {
      "text/html": [
       "<div>\n",
       "<style scoped>\n",
       "    .dataframe tbody tr th:only-of-type {\n",
       "        vertical-align: middle;\n",
       "    }\n",
       "\n",
       "    .dataframe tbody tr th {\n",
       "        vertical-align: top;\n",
       "    }\n",
       "\n",
       "    .dataframe thead th {\n",
       "        text-align: right;\n",
       "    }\n",
       "</style>\n",
       "<table border=\"1\" class=\"dataframe\">\n",
       "  <thead>\n",
       "    <tr style=\"text-align: right;\">\n",
       "      <th></th>\n",
       "      <th>x1</th>\n",
       "      <th>x2</th>\n",
       "      <th>cluster</th>\n",
       "      <th>silhouette_coef</th>\n",
       "    </tr>\n",
       "  </thead>\n",
       "  <tbody>\n",
       "    <tr>\n",
       "      <th>0</th>\n",
       "      <td>5.765326</td>\n",
       "      <td>1.457526</td>\n",
       "      <td>2</td>\n",
       "      <td>0.517086</td>\n",
       "    </tr>\n",
       "    <tr>\n",
       "      <th>1</th>\n",
       "      <td>6.912759</td>\n",
       "      <td>0.896538</td>\n",
       "      <td>2</td>\n",
       "      <td>0.610942</td>\n",
       "    </tr>\n",
       "    <tr>\n",
       "      <th>2</th>\n",
       "      <td>5.637020</td>\n",
       "      <td>1.692786</td>\n",
       "      <td>2</td>\n",
       "      <td>0.499394</td>\n",
       "    </tr>\n",
       "    <tr>\n",
       "      <th>3</th>\n",
       "      <td>2.358686</td>\n",
       "      <td>0.582731</td>\n",
       "      <td>0</td>\n",
       "      <td>0.618648</td>\n",
       "    </tr>\n",
       "    <tr>\n",
       "      <th>4</th>\n",
       "      <td>2.713955</td>\n",
       "      <td>0.023323</td>\n",
       "      <td>0</td>\n",
       "      <td>0.671488</td>\n",
       "    </tr>\n",
       "  </tbody>\n",
       "</table>\n",
       "</div>"
      ],
      "text/plain": [
       "         x1        x2  cluster  silhouette_coef\n",
       "0  5.765326  1.457526        2         0.517086\n",
       "1  6.912759  0.896538        2         0.610942\n",
       "2  5.637020  1.692786        2         0.499394\n",
       "3  2.358686  0.582731        0         0.618648\n",
       "4  2.713955  0.023323        0         0.671488"
      ]
     },
     "execution_count": 334,
     "metadata": {},
     "output_type": "execute_result"
    }
   ],
   "source": [
    "from sklearn.metrics import silhouette_samples, silhouette_score\n",
    "from sklearn.datasets import make_blobs\n",
    "\n",
    "X, _ = make_blobs(n_samples = 150, random_state=99)\n",
    "\n",
    "kmeans = KMeans(n_clusters = 3, init='k-means++', random_state=0)\n",
    "kmeans.fit(X)\n",
    "\n",
    "X_df = pd.DataFrame(X, columns = ['x1','x2'])\n",
    "X_df['cluster'] = kmeans.labels_\n",
    "\n",
    "X_df['silhouette_coef'] = silhouette_samples(X_df.drop('cluster', axis=1), X_df['cluster'])\n",
    "average_score = silhouette_score(X_df[['x1','x2']], X_df['cluster'])\n",
    "\n",
    "print(f\"평균 실루엣 계수 : {average_score:.3f}\")\n",
    "X_df.head()"
   ]
  },
  {
   "cell_type": "code",
   "execution_count": 354,
   "id": "e4ed45e6",
   "metadata": {
    "scrolled": false
   },
   "outputs": [
    {
     "name": "stdout",
     "output_type": "stream",
     "text": [
      "군집별 평균 실루엣 계수\n"
     ]
    },
    {
     "data": {
      "text/plain": [
       "cluster\n",
       "0    0.502143\n",
       "1    0.822329\n",
       "2    0.485119\n",
       "Name: silhouette_coef, dtype: float64"
      ]
     },
     "execution_count": 354,
     "metadata": {},
     "output_type": "execute_result"
    }
   ],
   "source": [
    "print(\"군집별 평균 실루엣 계수\")\n",
    "X_df.groupby('cluster')['silhouette_coef'].mean()\n",
    "\n",
    "# 편차를 알 수 있음, 2번 군집의 평균 실루엣 계수가 높음"
   ]
  },
  {
   "cell_type": "code",
   "execution_count": 359,
   "id": "5c988eb9",
   "metadata": {
    "scrolled": false
   },
   "outputs": [
    {
     "data": {
      "text/plain": [
       "<matplotlib.collections.PathCollection at 0x1af8d6099a0>"
      ]
     },
     "execution_count": 359,
     "metadata": {},
     "output_type": "execute_result"
    },
    {
     "data": {
      "image/png": "[encoded data removed]",
      "text/plain": [
       "<Figure size 432x288 with 1 Axes>"
      ]
     },
     "metadata": {
      "needs_background": "light"
     },
     "output_type": "display_data"
    }
   ],
   "source": [
    "ax = None\n",
    "colors = ['blue', 'red', 'green']\n",
    "for i, data in X_df.groupby('cluster'):\n",
    "    ax = data.plot.scatter(x='x1',y='x2', color=colors[i],\n",
    "                          label=f'cluster{i}', ax=ax)\n",
    "\n",
    "# 1번 군집의 경우 다른 군집과 거리가 멀어 평균 실루엣 계수가 작음을 알 수 있음\n",
    "\n",
    "plt.scatter(kmeans.cluster_centers_[:,0], kmeans.cluster_centers_[:,1], s=250,\n",
    "            c='yellow', marker='*', edgecolors='black')"
   ]
  },
  {
   "cell_type": "code",
   "execution_count": 387,
   "id": "2eee3d0e",
   "metadata": {},
   "outputs": [
    {
     "data": {
      "text/html": [
       "<div>\n",
       "<style scoped>\n",
       "    .dataframe tbody tr th:only-of-type {\n",
       "        vertical-align: middle;\n",
       "    }\n",
       "\n",
       "    .dataframe tbody tr th {\n",
       "        vertical-align: top;\n",
       "    }\n",
       "\n",
       "    .dataframe thead th {\n",
       "        text-align: right;\n",
       "    }\n",
       "</style>\n",
       "<table border=\"1\" class=\"dataframe\">\n",
       "  <thead>\n",
       "    <tr style=\"text-align: right;\">\n",
       "      <th></th>\n",
       "      <th>age</th>\n",
       "      <th>job</th>\n",
       "      <th>marital</th>\n",
       "      <th>education</th>\n",
       "      <th>default</th>\n",
       "      <th>balance</th>\n",
       "      <th>housing</th>\n",
       "      <th>loan</th>\n",
       "      <th>contact</th>\n",
       "      <th>day</th>\n",
       "      <th>month</th>\n",
       "      <th>duration</th>\n",
       "      <th>campaign</th>\n",
       "      <th>pdays</th>\n",
       "      <th>previous</th>\n",
       "      <th>poutcome</th>\n",
       "      <th>y</th>\n",
       "      <th>cluster</th>\n",
       "    </tr>\n",
       "  </thead>\n",
       "  <tbody>\n",
       "    <tr>\n",
       "      <th>0</th>\n",
       "      <td>58</td>\n",
       "      <td>management</td>\n",
       "      <td>married</td>\n",
       "      <td>tertiary</td>\n",
       "      <td>no</td>\n",
       "      <td>2143</td>\n",
       "      <td>yes</td>\n",
       "      <td>no</td>\n",
       "      <td>unknown</td>\n",
       "      <td>5</td>\n",
       "      <td>may</td>\n",
       "      <td>261</td>\n",
       "      <td>1</td>\n",
       "      <td>-1</td>\n",
       "      <td>0</td>\n",
       "      <td>unknown</td>\n",
       "      <td>no</td>\n",
       "      <td>4</td>\n",
       "    </tr>\n",
       "    <tr>\n",
       "      <th>1</th>\n",
       "      <td>44</td>\n",
       "      <td>technician</td>\n",
       "      <td>single</td>\n",
       "      <td>secondary</td>\n",
       "      <td>no</td>\n",
       "      <td>29</td>\n",
       "      <td>yes</td>\n",
       "      <td>no</td>\n",
       "      <td>unknown</td>\n",
       "      <td>5</td>\n",
       "      <td>may</td>\n",
       "      <td>151</td>\n",
       "      <td>1</td>\n",
       "      <td>-1</td>\n",
       "      <td>0</td>\n",
       "      <td>unknown</td>\n",
       "      <td>no</td>\n",
       "      <td>4</td>\n",
       "    </tr>\n",
       "    <tr>\n",
       "      <th>2</th>\n",
       "      <td>33</td>\n",
       "      <td>entrepreneur</td>\n",
       "      <td>married</td>\n",
       "      <td>secondary</td>\n",
       "      <td>no</td>\n",
       "      <td>2</td>\n",
       "      <td>yes</td>\n",
       "      <td>yes</td>\n",
       "      <td>unknown</td>\n",
       "      <td>5</td>\n",
       "      <td>may</td>\n",
       "      <td>76</td>\n",
       "      <td>1</td>\n",
       "      <td>-1</td>\n",
       "      <td>0</td>\n",
       "      <td>unknown</td>\n",
       "      <td>no</td>\n",
       "      <td>0</td>\n",
       "    </tr>\n",
       "    <tr>\n",
       "      <th>3</th>\n",
       "      <td>47</td>\n",
       "      <td>blue-collar</td>\n",
       "      <td>married</td>\n",
       "      <td>unknown</td>\n",
       "      <td>no</td>\n",
       "      <td>1506</td>\n",
       "      <td>yes</td>\n",
       "      <td>no</td>\n",
       "      <td>unknown</td>\n",
       "      <td>5</td>\n",
       "      <td>may</td>\n",
       "      <td>92</td>\n",
       "      <td>1</td>\n",
       "      <td>-1</td>\n",
       "      <td>0</td>\n",
       "      <td>unknown</td>\n",
       "      <td>no</td>\n",
       "      <td>4</td>\n",
       "    </tr>\n",
       "    <tr>\n",
       "      <th>4</th>\n",
       "      <td>33</td>\n",
       "      <td>unknown</td>\n",
       "      <td>single</td>\n",
       "      <td>unknown</td>\n",
       "      <td>no</td>\n",
       "      <td>1</td>\n",
       "      <td>no</td>\n",
       "      <td>no</td>\n",
       "      <td>unknown</td>\n",
       "      <td>5</td>\n",
       "      <td>may</td>\n",
       "      <td>198</td>\n",
       "      <td>1</td>\n",
       "      <td>-1</td>\n",
       "      <td>0</td>\n",
       "      <td>unknown</td>\n",
       "      <td>no</td>\n",
       "      <td>0</td>\n",
       "    </tr>\n",
       "  </tbody>\n",
       "</table>\n",
       "</div>"
      ],
      "text/plain": [
       "   age           job  marital  education default  balance housing loan  \\\n",
       "0   58    management  married   tertiary      no     2143     yes   no   \n",
       "1   44    technician   single  secondary      no       29     yes   no   \n",
       "2   33  entrepreneur  married  secondary      no        2     yes  yes   \n",
       "3   47   blue-collar  married    unknown      no     1506     yes   no   \n",
       "4   33       unknown   single    unknown      no        1      no   no   \n",
       "\n",
       "   contact  day month  duration  campaign  pdays  previous poutcome   y  \\\n",
       "0  unknown    5   may       261         1     -1         0  unknown  no   \n",
       "1  unknown    5   may       151         1     -1         0  unknown  no   \n",
       "2  unknown    5   may        76         1     -1         0  unknown  no   \n",
       "3  unknown    5   may        92         1     -1         0  unknown  no   \n",
       "4  unknown    5   may       198         1     -1         0  unknown  no   \n",
       "\n",
       "   cluster  \n",
       "0        4  \n",
       "1        4  \n",
       "2        0  \n",
       "3        4  \n",
       "4        0  "
      ]
     },
     "execution_count": 387,
     "metadata": {},
     "output_type": "execute_result"
    }
   ],
   "source": [
    "# 금융 마케팅 데이터와 군집 분석 결과를 결합\n",
    "kmeans = KMeans(init='random', n_clusters=6, random_state=0)\n",
    "kmeans.fit(bank_sub_std)\n",
    "bank_with_cluster = pd.concat([bank, pd.Series(kmeans.labels_, name='cluster')], axis=1)\n",
    "bank_with_cluster.head()"
   ]
  },
  {
   "cell_type": "code",
   "execution_count": 399,
   "id": "61e4e64d",
   "metadata": {},
   "outputs": [
    {
     "data": {
      "text/plain": [
       "0         [55, 60)\n",
       "1         [40, 45)\n",
       "2         [30, 35)\n",
       "3         [45, 50)\n",
       "4         [30, 35)\n",
       "           ...    \n",
       "45206     [50, 55)\n",
       "45207    [65, 100)\n",
       "45208    [65, 100)\n",
       "45209     [55, 60)\n",
       "45210     [35, 40)\n",
       "Name: age, Length: 45211, dtype: category\n",
       "Categories (11, interval[int64, left]): [[15, 20) < [20, 25) < [25, 30) < [30, 35) ... [50, 55) < [55, 60) < [60, 65) < [65, 100)]"
      ]
     },
     "execution_count": 399,
     "metadata": {},
     "output_type": "execute_result"
    }
   ],
   "source": [
    "# 군집별 연령층을 확인 ('age'와 'cluster' 변수가 기준)\n",
    "\n",
    "# 연령 구간 나누기\n",
    "bins = [15,20,25,30,35,40,45,50,55,60,65,100]\n",
    "\n",
    "# 위의 구간을 기준으로 qcut_age 변수에 각 데이터의 연령층을 분할\n",
    "qcut_age = pd.cut(bank_with_cluster.age, bins, right=False)\n",
    "qcut_age"
   ]
  },
  {
   "cell_type": "code",
   "execution_count": 408,
   "id": "dc9ff2d6",
   "metadata": {},
   "outputs": [
    {
     "data": {
      "text/html": [
       "<div>\n",
       "<style scoped>\n",
       "    .dataframe tbody tr th:only-of-type {\n",
       "        vertical-align: middle;\n",
       "    }\n",
       "\n",
       "    .dataframe tbody tr th {\n",
       "        vertical-align: top;\n",
       "    }\n",
       "\n",
       "    .dataframe thead th {\n",
       "        text-align: right;\n",
       "    }\n",
       "</style>\n",
       "<table border=\"1\" class=\"dataframe\">\n",
       "  <thead>\n",
       "    <tr style=\"text-align: right;\">\n",
       "      <th></th>\n",
       "      <th>cluster</th>\n",
       "      <th>age</th>\n",
       "    </tr>\n",
       "  </thead>\n",
       "  <tbody>\n",
       "    <tr>\n",
       "      <th>0</th>\n",
       "      <td>4</td>\n",
       "      <td>[55, 60)</td>\n",
       "    </tr>\n",
       "    <tr>\n",
       "      <th>1</th>\n",
       "      <td>4</td>\n",
       "      <td>[40, 45)</td>\n",
       "    </tr>\n",
       "    <tr>\n",
       "      <th>2</th>\n",
       "      <td>0</td>\n",
       "      <td>[30, 35)</td>\n",
       "    </tr>\n",
       "    <tr>\n",
       "      <th>3</th>\n",
       "      <td>4</td>\n",
       "      <td>[45, 50)</td>\n",
       "    </tr>\n",
       "    <tr>\n",
       "      <th>4</th>\n",
       "      <td>0</td>\n",
       "      <td>[30, 35)</td>\n",
       "    </tr>\n",
       "  </tbody>\n",
       "</table>\n",
       "</div>"
      ],
      "text/plain": [
       "   cluster       age\n",
       "0        4  [55, 60)\n",
       "1        4  [40, 45)\n",
       "2        0  [30, 35)\n",
       "3        4  [45, 50)\n",
       "4        0  [30, 35)"
      ]
     },
     "execution_count": 408,
     "metadata": {},
     "output_type": "execute_result"
    }
   ],
   "source": [
    "# df에는 cluster와 qcut_age 변수만을 결합\n",
    "df = pd.concat([bank_with_cluster['cluster'], qcut_age], axis=1)\n",
    "df.head(5)"
   ]
  },
  {
   "cell_type": "code",
   "execution_count": 438,
   "id": "70d44be4",
   "metadata": {
    "scrolled": false
   },
   "outputs": [
    {
     "data": {
      "text/html": [
       "<div>\n",
       "<style scoped>\n",
       "    .dataframe tbody tr th:only-of-type {\n",
       "        vertical-align: middle;\n",
       "    }\n",
       "\n",
       "    .dataframe tbody tr th {\n",
       "        vertical-align: top;\n",
       "    }\n",
       "\n",
       "    .dataframe thead th {\n",
       "        text-align: right;\n",
       "    }\n",
       "</style>\n",
       "<table border=\"1\" class=\"dataframe\">\n",
       "  <thead>\n",
       "    <tr style=\"text-align: right;\">\n",
       "      <th>age</th>\n",
       "      <th>[15, 20)</th>\n",
       "      <th>[20, 25)</th>\n",
       "      <th>[25, 30)</th>\n",
       "      <th>[30, 35)</th>\n",
       "      <th>[35, 40)</th>\n",
       "      <th>[40, 45)</th>\n",
       "      <th>[45, 50)</th>\n",
       "      <th>[50, 55)</th>\n",
       "      <th>[55, 60)</th>\n",
       "      <th>[60, 65)</th>\n",
       "      <th>[65, 100)</th>\n",
       "    </tr>\n",
       "    <tr>\n",
       "      <th>cluster</th>\n",
       "      <th></th>\n",
       "      <th></th>\n",
       "      <th></th>\n",
       "      <th></th>\n",
       "      <th></th>\n",
       "      <th></th>\n",
       "      <th></th>\n",
       "      <th></th>\n",
       "      <th></th>\n",
       "      <th></th>\n",
       "      <th></th>\n",
       "    </tr>\n",
       "  </thead>\n",
       "  <tbody>\n",
       "    <tr>\n",
       "      <th>0</th>\n",
       "      <td>45</td>\n",
       "      <td>711</td>\n",
       "      <td>4024</td>\n",
       "      <td>8492</td>\n",
       "      <td>7146</td>\n",
       "      <td>4091</td>\n",
       "      <td>0</td>\n",
       "      <td>0</td>\n",
       "      <td>0</td>\n",
       "      <td>0</td>\n",
       "      <td>0</td>\n",
       "    </tr>\n",
       "    <tr>\n",
       "      <th>1</th>\n",
       "      <td>0</td>\n",
       "      <td>3</td>\n",
       "      <td>10</td>\n",
       "      <td>37</td>\n",
       "      <td>25</td>\n",
       "      <td>26</td>\n",
       "      <td>27</td>\n",
       "      <td>30</td>\n",
       "      <td>38</td>\n",
       "      <td>11</td>\n",
       "      <td>14</td>\n",
       "    </tr>\n",
       "    <tr>\n",
       "      <th>2</th>\n",
       "      <td>0</td>\n",
       "      <td>14</td>\n",
       "      <td>152</td>\n",
       "      <td>497</td>\n",
       "      <td>517</td>\n",
       "      <td>460</td>\n",
       "      <td>375</td>\n",
       "      <td>306</td>\n",
       "      <td>263</td>\n",
       "      <td>63</td>\n",
       "      <td>37</td>\n",
       "    </tr>\n",
       "    <tr>\n",
       "      <th>3</th>\n",
       "      <td>0</td>\n",
       "      <td>20</td>\n",
       "      <td>132</td>\n",
       "      <td>327</td>\n",
       "      <td>308</td>\n",
       "      <td>187</td>\n",
       "      <td>146</td>\n",
       "      <td>117</td>\n",
       "      <td>71</td>\n",
       "      <td>38</td>\n",
       "      <td>34</td>\n",
       "    </tr>\n",
       "    <tr>\n",
       "      <th>4</th>\n",
       "      <td>0</td>\n",
       "      <td>0</td>\n",
       "      <td>0</td>\n",
       "      <td>0</td>\n",
       "      <td>0</td>\n",
       "      <td>1155</td>\n",
       "      <td>4701</td>\n",
       "      <td>3885</td>\n",
       "      <td>3436</td>\n",
       "      <td>838</td>\n",
       "      <td>719</td>\n",
       "    </tr>\n",
       "    <tr>\n",
       "      <th>5</th>\n",
       "      <td>2</td>\n",
       "      <td>14</td>\n",
       "      <td>146</td>\n",
       "      <td>387</td>\n",
       "      <td>353</td>\n",
       "      <td>266</td>\n",
       "      <td>221</td>\n",
       "      <td>150</td>\n",
       "      <td>114</td>\n",
       "      <td>24</td>\n",
       "      <td>6</td>\n",
       "    </tr>\n",
       "  </tbody>\n",
       "</table>\n",
       "</div>"
      ],
      "text/plain": [
       "age      [15, 20)  [20, 25)  [25, 30)  [30, 35)  [35, 40)  [40, 45)  [45, 50)  \\\n",
       "cluster                                                                         \n",
       "0              45       711      4024      8492      7146      4091         0   \n",
       "1               0         3        10        37        25        26        27   \n",
       "2               0        14       152       497       517       460       375   \n",
       "3               0        20       132       327       308       187       146   \n",
       "4               0         0         0         0         0      1155      4701   \n",
       "5               2        14       146       387       353       266       221   \n",
       "\n",
       "age      [50, 55)  [55, 60)  [60, 65)  [65, 100)  \n",
       "cluster                                           \n",
       "0               0         0         0          0  \n",
       "1              30        38        11         14  \n",
       "2             306       263        63         37  \n",
       "3             117        71        38         34  \n",
       "4            3885      3436       838        719  \n",
       "5             150       114        24          6  "
      ]
     },
     "execution_count": 438,
     "metadata": {},
     "output_type": "execute_result"
    }
   ],
   "source": [
    "cross_cluster_age = df.groupby(['cluster', 'age']).size().unstack().fillna(0)\n",
    "cross_cluster_age"
   ]
  },
  {
   "cell_type": "code",
   "execution_count": 411,
   "id": "f650540f",
   "metadata": {},
   "outputs": [
    {
     "data": {
      "text/plain": [
       "[30, 35)     9740\n",
       "[35, 40)     8349\n",
       "[40, 45)     6185\n",
       "[45, 50)     5470\n",
       "[50, 55)     4488\n",
       "[25, 30)     4464\n",
       "[55, 60)     3922\n",
       "[60, 65)      974\n",
       "[65, 100)     810\n",
       "[20, 25)      762\n",
       "[15, 20)       47\n",
       "Name: age, dtype: int64"
      ]
     },
     "execution_count": 411,
     "metadata": {},
     "output_type": "execute_result"
    }
   ],
   "source": [
    "# 구간 분할한 데이터 수 세기\n",
    "pd.value_counts(qcut_age)"
   ]
  },
  {
   "cell_type": "code",
   "execution_count": 429,
   "id": "c0c40c13",
   "metadata": {},
   "outputs": [
    {
     "data": {
      "text/plain": [
       "<AxesSubplot:xlabel='age', ylabel='cluster'>"
      ]
     },
     "execution_count": 429,
     "metadata": {},
     "output_type": "execute_result"
    },
    {
     "data": {
      "image/png": "[encoded data removed]",
      "text/plain": [
       "<Figure size 432x288 with 2 Axes>"
      ]
     },
     "metadata": {
      "needs_background": "light"
     },
     "output_type": "display_data"
    }
   ],
   "source": [
    "# 연령층 비율을 그래프로 나타내기\n",
    "# 비율이 높을수록 색이 짙어지는 히트맵을 이용\n",
    "sns.heatmap(cross_cluster_age, cmap='Reds')"
   ]
  },
  {
   "cell_type": "code",
   "execution_count": 439,
   "id": "92944020",
   "metadata": {},
   "outputs": [
    {
     "data": {
      "text/plain": [
       "<AxesSubplot:xlabel='age', ylabel='cluster'>"
      ]
     },
     "execution_count": 439,
     "metadata": {},
     "output_type": "execute_result"
    },
    {
     "data": {
      "image/png": "[encoded data removed]",
      "text/plain": [
       "<Figure size 432x288 with 2 Axes>"
      ]
     },
     "metadata": {
      "needs_background": "light"
     },
     "output_type": "display_data"
    }
   ],
   "source": [
    "# apply 메서드와 lambda 이용하여 연령층을 비율로 나타내기\n",
    "# apply 메서드의 결과 axis=1이므로, 열이 사라졌다고 생각하면\n",
    "# cluster가 각각 0,1,2,3,4,5일 때 하나의 행 단위로 동작함\n",
    "# x는 하나의 행(하나의 군집)에서 연령 구간별 인원의 수\n",
    "# x.sum()은 하나의 행(하나의 군집)에서 전 연령에 있는 총 인원의 수\n",
    "\n",
    "sns.heatmap(cross_cluster_age.apply(lambda x:x/x.sum(), axis=1), cmap='Reds')"
   ]
  },
  {
   "cell_type": "code",
   "execution_count": 445,
   "id": "b2e8dd7d",
   "metadata": {},
   "outputs": [
    {
     "data": {
      "text/html": [
       "<div>\n",
       "<style scoped>\n",
       "    .dataframe tbody tr th:only-of-type {\n",
       "        vertical-align: middle;\n",
       "    }\n",
       "\n",
       "    .dataframe tbody tr th {\n",
       "        vertical-align: top;\n",
       "    }\n",
       "\n",
       "    .dataframe thead th {\n",
       "        text-align: right;\n",
       "    }\n",
       "</style>\n",
       "<table border=\"1\" class=\"dataframe\">\n",
       "  <thead>\n",
       "    <tr style=\"text-align: right;\">\n",
       "      <th>job</th>\n",
       "      <th>admin.</th>\n",
       "      <th>blue-collar</th>\n",
       "      <th>entrepreneur</th>\n",
       "      <th>housemaid</th>\n",
       "      <th>management</th>\n",
       "      <th>retired</th>\n",
       "      <th>self-employed</th>\n",
       "      <th>services</th>\n",
       "      <th>student</th>\n",
       "      <th>technician</th>\n",
       "      <th>unemployed</th>\n",
       "      <th>unknown</th>\n",
       "    </tr>\n",
       "    <tr>\n",
       "      <th>cluster</th>\n",
       "      <th></th>\n",
       "      <th></th>\n",
       "      <th></th>\n",
       "      <th></th>\n",
       "      <th></th>\n",
       "      <th></th>\n",
       "      <th></th>\n",
       "      <th></th>\n",
       "      <th></th>\n",
       "      <th></th>\n",
       "      <th></th>\n",
       "      <th></th>\n",
       "    </tr>\n",
       "  </thead>\n",
       "  <tbody>\n",
       "    <tr>\n",
       "      <th>0</th>\n",
       "      <td>3097</td>\n",
       "      <td>5610</td>\n",
       "      <td>728</td>\n",
       "      <td>426</td>\n",
       "      <td>5130</td>\n",
       "      <td>57</td>\n",
       "      <td>852</td>\n",
       "      <td>2564</td>\n",
       "      <td>813</td>\n",
       "      <td>4459</td>\n",
       "      <td>698</td>\n",
       "      <td>75</td>\n",
       "    </tr>\n",
       "    <tr>\n",
       "      <th>1</th>\n",
       "      <td>15</td>\n",
       "      <td>12</td>\n",
       "      <td>19</td>\n",
       "      <td>7</td>\n",
       "      <td>91</td>\n",
       "      <td>24</td>\n",
       "      <td>11</td>\n",
       "      <td>9</td>\n",
       "      <td>3</td>\n",
       "      <td>21</td>\n",
       "      <td>6</td>\n",
       "      <td>3</td>\n",
       "    </tr>\n",
       "    <tr>\n",
       "      <th>2</th>\n",
       "      <td>219</td>\n",
       "      <td>459</td>\n",
       "      <td>91</td>\n",
       "      <td>70</td>\n",
       "      <td>788</td>\n",
       "      <td>111</td>\n",
       "      <td>130</td>\n",
       "      <td>189</td>\n",
       "      <td>48</td>\n",
       "      <td>460</td>\n",
       "      <td>99</td>\n",
       "      <td>20</td>\n",
       "    </tr>\n",
       "    <tr>\n",
       "      <th>3</th>\n",
       "      <td>196</td>\n",
       "      <td>244</td>\n",
       "      <td>42</td>\n",
       "      <td>22</td>\n",
       "      <td>332</td>\n",
       "      <td>53</td>\n",
       "      <td>41</td>\n",
       "      <td>112</td>\n",
       "      <td>52</td>\n",
       "      <td>250</td>\n",
       "      <td>31</td>\n",
       "      <td>5</td>\n",
       "    </tr>\n",
       "    <tr>\n",
       "      <th>4</th>\n",
       "      <td>1467</td>\n",
       "      <td>3040</td>\n",
       "      <td>543</td>\n",
       "      <td>675</td>\n",
       "      <td>2732</td>\n",
       "      <td>1984</td>\n",
       "      <td>479</td>\n",
       "      <td>1124</td>\n",
       "      <td>4</td>\n",
       "      <td>2084</td>\n",
       "      <td>439</td>\n",
       "      <td>163</td>\n",
       "    </tr>\n",
       "    <tr>\n",
       "      <th>5</th>\n",
       "      <td>177</td>\n",
       "      <td>367</td>\n",
       "      <td>64</td>\n",
       "      <td>40</td>\n",
       "      <td>385</td>\n",
       "      <td>35</td>\n",
       "      <td>66</td>\n",
       "      <td>156</td>\n",
       "      <td>18</td>\n",
       "      <td>323</td>\n",
       "      <td>30</td>\n",
       "      <td>22</td>\n",
       "    </tr>\n",
       "  </tbody>\n",
       "</table>\n",
       "</div>"
      ],
      "text/plain": [
       "job      admin.  blue-collar  entrepreneur  housemaid  management  retired  \\\n",
       "cluster                                                                      \n",
       "0          3097         5610           728        426        5130       57   \n",
       "1            15           12            19          7          91       24   \n",
       "2           219          459            91         70         788      111   \n",
       "3           196          244            42         22         332       53   \n",
       "4          1467         3040           543        675        2732     1984   \n",
       "5           177          367            64         40         385       35   \n",
       "\n",
       "job      self-employed  services  student  technician  unemployed  unknown  \n",
       "cluster                                                                     \n",
       "0                  852      2564      813        4459         698       75  \n",
       "1                   11         9        3          21           6        3  \n",
       "2                  130       189       48         460          99       20  \n",
       "3                   41       112       52         250          31        5  \n",
       "4                  479      1124        4        2084         439      163  \n",
       "5                   66       156       18         323          30       22  "
      ]
     },
     "execution_count": 445,
     "metadata": {},
     "output_type": "execute_result"
    }
   ],
   "source": [
    "cross_cluster_job = bank_with_cluster.groupby(['cluster', 'job']).size().unstack().fillna(0)\n",
    "cross_cluster_job"
   ]
  },
  {
   "cell_type": "code",
   "execution_count": 452,
   "id": "01f45f45",
   "metadata": {},
   "outputs": [
    {
     "data": {
      "text/plain": [
       "<AxesSubplot:xlabel='job', ylabel='cluster'>"
      ]
     },
     "execution_count": 452,
     "metadata": {},
     "output_type": "execute_result"
    },
    {
     "data": {
      "image/png": "[encoded data removed]",
      "text/plain": [
       "<Figure size 432x288 with 2 Axes>"
      ]
     },
     "metadata": {
      "needs_background": "light"
     },
     "output_type": "display_data"
    }
   ],
   "source": [
    "sns.heatmap(cross_cluster_job.apply(lambda x: x/x.sum(), axis=1), cmap='Reds')"
   ]
  }
 ],
 "metadata": {
  "kernelspec": {
   "display_name": "Python 3 (ipykernel)",
   "language": "python",
   "name": "python3"
  },
  "language_info": {
   "codemirror_mode": {
    "name": "ipython",
    "version": 3
   },
   "file_extension": ".py",
   "mimetype": "text/x-python",
   "name": "python",
   "nbconvert_exporter": "python",
   "pygments_lexer": "ipython3",
   "version": "3.9.12"
  }
 },
 "nbformat": 4,
 "nbformat_minor": 5
}
